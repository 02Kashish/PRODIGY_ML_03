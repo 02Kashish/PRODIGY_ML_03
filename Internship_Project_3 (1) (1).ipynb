{
  "cells": [
    {
      "cell_type": "code",
      "execution_count": null,
      "metadata": {
        "colab": {
          "base_uri": "https://localhost:8080/"
        },
        "id": "XjZrtisRep0t",
        "outputId": "6900f714-8bb7-4c15-fbc7-ab69bd6d2a5f"
      },
      "outputs": [
        {
          "name": "stdout",
          "output_type": "stream",
          "text": [
            "Downloading data from https://storage.googleapis.com/tensorflow/keras-applications/xception/xception_weights_tf_dim_ordering_tf_kernels_notop.h5\n",
            "83683744/83683744 [==============================] - 0s 0us/step\n",
            "1\n",
            "32/32 [==============================] - 14s 189ms/step\n",
            "2\n",
            "31/31 [==============================] - 10s 296ms/step\n",
            "1\n",
            "32/32 [==============================] - 6s 203ms/step\n",
            "2\n",
            "32/32 [==============================] - 6s 204ms/step\n",
            "3\n",
            "32/32 [==============================] - 7s 208ms/step\n",
            "4\n",
            "32/32 [==============================] - 7s 212ms/step\n",
            "5\n",
            "32/32 [==============================] - 7s 215ms/step\n",
            "6\n",
            "32/32 [==============================] - 7s 219ms/step\n",
            "7\n",
            "32/32 [==============================] - 7s 223ms/step\n",
            "8\n",
            "26/26 [==============================] - 6s 227ms/step\n",
            "Accuracy: 0.993\n"
          ]
        }
      ],
      "source": [
        "import os\n",
        "import numpy as np\n",
        "from PIL import Image\n",
        "from sklearn import svm\n",
        "from sklearn.model_selection import train_test_split\n",
        "from sklearn.metrics import accuracy_score\n",
        "from tensorflow.keras.models import Model\n",
        "from sklearn.linear_model import SGDClassifier\n",
        "\n",
        "from tensorflow.keras.preprocessing import image\n",
        "from tensorflow.keras.applications import Xception\n",
        "from tensorflow.keras.applications.xception import preprocess_input\n",
        "from multiprocessing import Pool\n",
        "# Function to load images and labels from a directory\n",
        "import gc\n",
        "\n",
        "\n",
        "def load_images_from_folder(folder):\n",
        "    images = []\n",
        "    labels = []\n",
        "    for filename in os.listdir(folder):\n",
        "        label = filename.split('.')[0]  # Extracting label from filename (assuming filename is in format \"cat.xxx.jpg\")\n",
        "        if label == 'cat':\n",
        "            label = 0\n",
        "        elif label == 'dog':\n",
        "            label = 1\n",
        "        else:\n",
        "            continue\n",
        "        img = Image.open(os.path.join(folder, filename))\n",
        "        images.append(img)\n",
        "        labels.append(label)\n",
        "    return images, labels\n",
        "\n",
        "m = Xception(weights='imagenet', include_top=False, pooling='avg')\n",
        "def extract_features(m,images):\n",
        "    preprocessed_images = [image.resize((299, 299)) for image in images]\n",
        "    preprocessed_images = [np.array(image) for image in preprocessed_images]\n",
        "    preprocessed_images = np.array(preprocessed_images)\n",
        "    preprocessed_images = preprocess_input(preprocessed_images)\n",
        "    features = m.predict(preprocessed_images)\n",
        "    del preprocessed_images  # Clear memory after feature extraction\n",
        "    gc.collect()\n",
        "    return features\n",
        "# Path to the directory containing the images\n",
        "folder_path = \"train/train\"\n",
        "\n",
        "# Load images and labels\n",
        "images, labels = load_images_from_folder(folder_path)\n",
        "\n",
        "\n",
        "\n",
        "# Split the data into training and testing sets\n",
        "X_train, X_test, y_train, y_test = train_test_split(images, labels, test_size=0.8, random_state=42)\n",
        "#feat = extract_features(X_train)\n",
        "del images\n",
        "del labels\n",
        "gc.collect\n",
        "# Initialize SVM classifier\n",
        "clf = svm.SVC(kernel='linear')\n",
        "batch_size = 1024\n",
        "sgd_classifier = SGDClassifier(loss='log', alpha=0.0001, max_iter=1000, random_state=42)\n",
        "# Train the SVM classifier batch-wise\n",
        "num_samples = len(y_train)\n",
        "num_batches = (num_samples + batch_size - 1) // batch_size\n",
        "\n",
        "for batch_idx in range(num_batches):\n",
        "    print(batch_idx+1)\n",
        "    start_idx = batch_idx * batch_size\n",
        "    end_idx = min((batch_idx + 1) * batch_size, num_samples)\n",
        "    X_batch = extract_features(m,X_train[start_idx:end_idx])\n",
        "    #X_batch = feat[start_idx:end_idx]\n",
        "    y_batch = y_train[start_idx:end_idx]\n",
        "    clf.fit(X_batch, y_batch)\n",
        "    del X_batch\n",
        "    del y_batch\n",
        "    gc.collect()\n",
        "# Train the SVM classifier\n",
        "tnum_samples = len(y_test)\n",
        "tnum_batches = (tnum_samples + batch_size - 1) // batch_size\n",
        "y_pred=[]\n",
        "for batch_idx in range(tnum_batches):\n",
        "    print(batch_idx+1)\n",
        "    start_idx = batch_idx * batch_size\n",
        "    end_idx = min((batch_idx + 1) * batch_size, tnum_samples)\n",
        "    x = extract_features(m,X_test[start_idx:end_idx])\n",
        "    # Make predictions on the test data\n",
        "    y_pred.append(clf.predict(x))\n",
        "    del x\n",
        "    gc.collect\n",
        "# Concatenate arrays into a single array\n",
        "y_pred = np.concatenate(y_pred)\n",
        "\n",
        "# Convert the concatenated array to a Python list\n",
        "y_pred = y_pred.tolist()\n",
        "# Calculate accuracy\n",
        "accuracy = accuracy_score(y_test, y_pred)\n",
        "print(\"Accuracy:\", accuracy)"
      ]
    },
    {
      "cell_type": "code",
      "execution_count": null,
      "metadata": {
        "colab": {
          "base_uri": "https://localhost:8080/"
        },
        "id": "suByNnIsQYoQ",
        "outputId": "4bec43fd-c1bb-4e94-f86f-aa8cbf10d62e"
      },
      "outputs": [
        {
          "name": "stdout",
          "output_type": "stream",
          "text": [
            "1/1 [==============================] - 0s 32ms/step\n",
            "0\n"
          ]
        }
      ],
      "source": [
        "img_path = 'path/to/sample.jpg'  # Replace 'sample.jpg' with the path to your image file\n",
        "img = image.load_img(img_path, target_size=(299, 299))  # Xception model requires input shape of (299, 299)\n",
        "x = image.img_to_array(img)\n",
        "x = np.expand_dims(x, axis=0)\n",
        "x = preprocess_input(x)\n",
        "\n",
        "# Predict class probabilities\n",
        "preds = m.predict(x)\n",
        "a = clf.predict(preds)\n",
        "print(a[0]) # 0 = cat while 1 = dog"
      ]
    }
  ],
  "metadata": {
    "accelerator": "GPU",
    "colab": {
      "gpuType": "T4",
      "provenance": []
    },
    "kernelspec": {
      "display_name": "Python 3",
      "name": "python3"
    },
    "language_info": {
      "name": "python"
    }
  },
  "nbformat": 4,
  "nbformat_minor": 0
}
